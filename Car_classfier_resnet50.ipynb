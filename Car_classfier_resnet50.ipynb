{
  "nbformat": 4,
  "nbformat_minor": 0,
  "metadata": {
    "colab": {
      "name": "Car_classfier_resnet50.ipynb",
      "provenance": [],
      "collapsed_sections": []
    },
    "kernelspec": {
      "name": "python3",
      "display_name": "Python 3"
    },
    "accelerator": "GPU"
  },
  "cells": [
    {
      "cell_type": "code",
      "metadata": {
        "colab": {
          "base_uri": "https://localhost:8080/"
        },
        "id": "0SlLHLCe-a8e",
        "outputId": "27a91bf3-536d-42df-b380-32d028fe9723"
      },
      "source": [
        "GOOGLE_COLAB = True\r\n",
        "path = \"\"\r\n",
        "if GOOGLE_COLAB:\r\n",
        "    from google.colab import drive, files\r\n",
        "    drive.mount('/content/drive/')\r\n",
        "    path = \"/content/drive/My Drive/Colab Notebooks/car_dataset/\""
      ],
      "execution_count": null,
      "outputs": [
        {
          "output_type": "stream",
          "text": [
            "Mounted at /content/drive/\n"
          ],
          "name": "stdout"
        }
      ]
    },
    {
      "cell_type": "code",
      "metadata": {
        "colab": {
          "base_uri": "https://localhost:8080/",
          "height": 35
        },
        "id": "McnIvc8KCefi",
        "outputId": "b89c5301-c793-4990-acce-9a9ef46d8baf"
      },
      "source": [
        "pwd"
      ],
      "execution_count": null,
      "outputs": [
        {
          "output_type": "execute_result",
          "data": {
            "application/vnd.google.colaboratory.intrinsic+json": {
              "type": "string"
            },
            "text/plain": [
              "'/content'"
            ]
          },
          "metadata": {
            "tags": []
          },
          "execution_count": 2
        }
      ]
    },
    {
      "cell_type": "code",
      "metadata": {
        "id": "8780zHuE_jpX"
      },
      "source": [
        "import tensorflow as tf\r\n",
        "from tensorflow.keras.layers import Conv2D, Flatten, Dense, MaxPool2D, BatchNormalization, GlobalAveragePooling2D\r\n",
        "from tensorflow.keras.applications.resnet50 import preprocess_input, decode_predictions\r\n",
        "from tensorflow.keras.preprocessing.image import ImageDataGenerator , load_img\r\n",
        "from tensorflow.keras.applications.resnet50 import ResNet50\r\n",
        "from tensorflow.keras.preprocessing import image\r\n",
        "from tensorflow.keras.models import Sequential\r\n",
        "from tensorflow.keras.models import Model\r\n",
        "import itertools\r\n",
        "import os\r\n",
        "import shutil\r\n",
        "import random\r\n",
        "import numpy as np\r\n",
        "import glob\r\n",
        "import matplotlib.pyplot as plt\r\n",
        "import warnings\r\n",
        "import pandas as pd"
      ],
      "execution_count": null,
      "outputs": []
    },
    {
      "cell_type": "code",
      "metadata": {
        "id": "VpzxJsOL_g9H"
      },
      "source": [
        "dataset = path + \"names.csv\"\r\n",
        "list_classes = pd.read_csv(dataset)\r\n",
        "list_classes"
      ],
      "execution_count": null,
      "outputs": []
    },
    {
      "cell_type": "code",
      "metadata": {
        "id": "FJ-Xze2n_WtG"
      },
      "source": [
        "class_list = list_classes.values.tolist()  \r\n",
        "class_list\r\n",
        "new_list = []\r\n",
        "for i in range(int(len(class_list))):\r\n",
        "    r = class_list[i]\r\n",
        "    new_list.append(r[0])\r\n"
      ],
      "execution_count": null,
      "outputs": []
    },
    {
      "cell_type": "code",
      "metadata": {
        "id": "jegs8OF0BNZe"
      },
      "source": [
        "test_path = path + \"/train\"\r\n",
        "valid_path = path + \"/valid\"\r\n",
        "train_path = path + \"/test\""
      ],
      "execution_count": null,
      "outputs": []
    },
    {
      "cell_type": "code",
      "metadata": {
        "colab": {
          "base_uri": "https://localhost:8080/"
        },
        "id": "qxe5EUd3C1yf",
        "outputId": "4e79e4af-3ac8-423a-9112-4d0958af1367"
      },
      "source": [
        "train_batches = ImageDataGenerator(preprocessing_function=tf.keras.applications.resnet50.preprocess_input) \\\r\n",
        "    .flow_from_directory(directory=train_path, target_size=(224,224), classes= new_list, batch_size=16)\r\n",
        "valid_batches = ImageDataGenerator(preprocessing_function=tf.keras.applications.resnet50.preprocess_input) \\\r\n",
        "    .flow_from_directory(directory=valid_path, target_size=(224,224),classes= new_list, batch_size=1)\r\n",
        "test_batches = ImageDataGenerator(preprocessing_function=tf.keras.applications.resnet50.preprocess_input) \\\r\n",
        "    .flow_from_directory(directory=test_path, target_size=(224,224),classes= new_list, batch_size=8, shuffle=False)"
      ],
      "execution_count": null,
      "outputs": [
        {
          "output_type": "stream",
          "text": [
            "Found 8000 images belonging to 196 classes.\n",
            "Found 1546 images belonging to 196 classes.\n",
            "Found 6489 images belonging to 196 classes.\n"
          ],
          "name": "stdout"
        }
      ]
    },
    {
      "cell_type": "code",
      "metadata": {
        "id": "oruc83QJC7XL"
      },
      "source": [
        "imgs, labels = next(train_batches)\r\n",
        "def plotImages(images_arr):\r\n",
        "    fig, axes = plt.subplots(1, 10, figsize=(20,20))\r\n",
        "    axes = axes.flatten()\r\n",
        "    for img, ax in zip( images_arr, axes):\r\n",
        "        ax.imshow(img)\r\n",
        "        ax.axis('off')\r\n",
        "    plt.tight_layout()\r\n",
        "    plt.show()\r\n",
        "plotImages(imgs)\r\n",
        "print(labels)"
      ],
      "execution_count": null,
      "outputs": []
    },
    {
      "cell_type": "code",
      "metadata": {
        "colab": {
          "base_uri": "https://localhost:8080/"
        },
        "id": "djEJS7ATEg92",
        "outputId": "40e738cd-3771-4b16-ad49-f441b57553e3"
      },
      "source": [
        "resnet50_model = tf.keras.applications.resnet50.ResNet50()"
      ],
      "execution_count": null,
      "outputs": [
        {
          "output_type": "stream",
          "text": [
            "Downloading data from https://storage.googleapis.com/tensorflow/keras-applications/resnet/resnet50_weights_tf_dim_ordering_tf_kernels.h5\n",
            "102973440/102967424 [==============================] - 1s 0us/step\n"
          ],
          "name": "stdout"
        }
      ]
    },
    {
      "cell_type": "code",
      "metadata": {
        "id": "0epKwfgQEzRJ"
      },
      "source": [
        "resnet50_model.summary()"
      ],
      "execution_count": null,
      "outputs": []
    },
    {
      "cell_type": "code",
      "metadata": {
        "id": "A6IzZ-BoE59R",
        "colab": {
          "base_uri": "https://localhost:8080/"
        },
        "outputId": "c34bb9fd-e077-4380-f09b-64548d538380"
      },
      "source": [
        "base_model = ResNet50(include_top=False, weights='imagenet')\r\n",
        "x = base_model.output\r\n",
        "x = GlobalAveragePooling2D()(x)\r\n",
        "predictions = Dense(train_batches.num_classes, activation='softmax')(x)\r\n",
        "model = Model(inputs=base_model.input , outputs=predictions)\r\n"
      ],
      "execution_count": null,
      "outputs": [
        {
          "output_type": "stream",
          "text": [
            "Downloading data from https://storage.googleapis.com/tensorflow/keras-applications/resnet/resnet50_weights_tf_dim_ordering_tf_kernels_notop.h5\n",
            "94773248/94765736 [==============================] - 1s 0us/step\n"
          ],
          "name": "stdout"
        }
      ]
    },
    {
      "cell_type": "code",
      "metadata": {
        "id": "_l-BAM8y1vKC"
      },
      "source": [
        "fine_tune_at = 110\r\n",
        "for layer in base_model.layers[:fine_tune_at]:\r\n",
        "  layer.trainable =  False\r\n",
        "from tensorflow.keras.optimizers import Adam\r\n",
        "model.compile(optimizer=Adam(learning_rate=0.0001), loss='categorical_crossentropy', metrics=['accuracy'])"
      ],
      "execution_count": null,
      "outputs": []
    },
    {
      "cell_type": "code",
      "metadata": {
        "colab": {
          "base_uri": "https://localhost:8080/"
        },
        "id": "3-4eRPFyAvCh",
        "outputId": "c299bad5-b1b6-4e8e-92cb-492cae06e700"
      },
      "source": [
        "len(base_model.layers)"
      ],
      "execution_count": null,
      "outputs": [
        {
          "output_type": "execute_result",
          "data": {
            "text/plain": [
              "175"
            ]
          },
          "metadata": {
            "tags": []
          },
          "execution_count": 13
        }
      ]
    },
    {
      "cell_type": "code",
      "metadata": {
        "id": "MgrogQf8xIh4"
      },
      "source": [
        "model.summary()"
      ],
      "execution_count": null,
      "outputs": []
    },
    {
      "cell_type": "code",
      "metadata": {
        "colab": {
          "base_uri": "https://localhost:8080/"
        },
        "id": "AZtdpxiaFIQU",
        "outputId": "bf38d5cd-4065-452b-a08c-f39b9aee61ad"
      },
      "source": [
        "history = model.fit(train_batches, epochs=6)\r\n"
      ],
      "execution_count": null,
      "outputs": [
        {
          "output_type": "stream",
          "text": [
            "Epoch 1/6\n",
            "500/500 [==============================] - 948s 2s/step - loss: 1.7870 - accuracy: 0.6075\n",
            "Epoch 2/6\n",
            "500/500 [==============================] - 90s 179ms/step - loss: 0.4805 - accuracy: 0.9078\n",
            "Epoch 3/6\n",
            "500/500 [==============================] - 90s 179ms/step - loss: 0.1098 - accuracy: 0.9890\n",
            "Epoch 4/6\n",
            "500/500 [==============================] - 89s 178ms/step - loss: 0.0376 - accuracy: 0.9971\n",
            "Epoch 5/6\n",
            "500/500 [==============================] - 89s 179ms/step - loss: 0.0235 - accuracy: 0.9979\n",
            "Epoch 6/6\n",
            "500/500 [==============================] - 90s 180ms/step - loss: 0.0167 - accuracy: 0.9981\n"
          ],
          "name": "stdout"
        }
      ]
    },
    {
      "cell_type": "code",
      "metadata": {
        "colab": {
          "base_uri": "https://localhost:8080/"
        },
        "id": "VrRsLHeCZ6c_",
        "outputId": "807e8a81-1c52-42a6-83bb-98e1358d0674"
      },
      "source": [
        " history1 = model.evaluate(test_batches)\r\n",
        " "
      ],
      "execution_count": 22,
      "outputs": [
        {
          "output_type": "stream",
          "text": [
            "812/812 [==============================] - 1715s 2s/step - loss: 0.9986 - accuracy: 0.7369\n"
          ],
          "name": "stdout"
        }
      ]
    },
    {
      "cell_type": "code",
      "metadata": {
        "id": "VEyG0aljzqUc"
      },
      "source": [
        "model.save('final_model.h5',path)"
      ],
      "execution_count": 38,
      "outputs": []
    }
  ]
}